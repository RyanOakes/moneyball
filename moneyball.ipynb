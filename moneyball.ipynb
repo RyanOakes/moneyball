{
 "cells": [
  {
   "cell_type": "markdown",
   "metadata": {},
   "source": [
    "## Import essential libraries."
   ]
  },
  {
   "cell_type": "code",
   "execution_count": 405,
   "metadata": {
    "collapsed": true
   },
   "outputs": [],
   "source": [
    "import matplotlib.pyplot as plt\n",
    "import numpy as np\n",
    "import pandas as pd\n",
    "from pandas import DataFrame, Series\n",
    "import data as data\n",
    "%matplotlib inline"
   ]
  },
  {
   "cell_type": "markdown",
   "metadata": {},
   "source": [
    "## Read essential docs, importing only desired columns. "
   ]
  },
  {
   "cell_type": "code",
   "execution_count": 406,
   "metadata": {
    "collapsed": false
   },
   "outputs": [],
   "source": [
    "salaries_index = [0, 3, 4]\n",
    "salaries = pd.read_csv('data/Salaries.csv', usecols=salaries_index)\n",
    "\n",
    "batting_index = [0, 1, 5, 6, 8, 17, 18, 20]\n",
    "batting = pd.read_csv('data/Batting.csv', usecols=batting_index)\n",
    "\n",
    "fielding_index = [0, 1, 5]\n",
    "fielding = pd.read_csv('data/Fielding.csv', usecols=fielding_index)\n",
    "\n",
    "master_index = [0, 13, 14]\n",
    "master = pd.read_csv('data/Master.csv', usecols=master_index)"
   ]
  },
  {
   "cell_type": "code",
   "execution_count": null,
   "metadata": {
    "collapsed": true
   },
   "outputs": [],
   "source": []
  },
  {
   "cell_type": "markdown",
   "metadata": {},
   "source": [
    "On-base percentage is calculated using this formula:\n",
    "\n",
    "OBP = H + BB + HBP /  AB + BB + HBP + SF\n",
    "\n",
    "H = Hits\n",
    "BB = Bases on Balls (Walks)\n",
    "HBP = Hit By Pitch\n",
    "AB = At bats\n",
    "SF = Sacrifice Flies"
   ]
  },
  {
   "cell_type": "code",
   "execution_count": 407,
   "metadata": {
    "collapsed": false
   },
   "outputs": [],
   "source": [
    "#Merge salaries and fielding documents. \n",
    "salaries_fielding = pd.merge(salaries, fielding)"
   ]
  },
  {
   "cell_type": "code",
   "execution_count": null,
   "metadata": {
    "collapsed": false
   },
   "outputs": [],
   "source": []
  },
  {
   "cell_type": "code",
   "execution_count": 408,
   "metadata": {
    "collapsed": false
   },
   "outputs": [],
   "source": [
    "#Merge salaries/fielding with master. \n",
    "salaries_fielding_master = pd.merge(salaries_fielding, master)"
   ]
  },
  {
   "cell_type": "code",
   "execution_count": null,
   "metadata": {
    "collapsed": false
   },
   "outputs": [],
   "source": []
  },
  {
   "cell_type": "code",
   "execution_count": 411,
   "metadata": {
    "collapsed": true
   },
   "outputs": [],
   "source": [
    "#Merge final document to complete dataframe, call dataframe baseball\n",
    "baseball = pd.merge(salaries_fielding_master, batting)"
   ]
  },
  {
   "cell_type": "code",
   "execution_count": null,
   "metadata": {
    "collapsed": true
   },
   "outputs": [],
   "source": []
  },
  {
   "cell_type": "code",
   "execution_count": 412,
   "metadata": {
    "collapsed": false
   },
   "outputs": [],
   "source": [
    "#Remove NaNs from master list\n",
    "baseball = baseball.dropna()"
   ]
  },
  {
   "cell_type": "code",
   "execution_count": null,
   "metadata": {
    "collapsed": false
   },
   "outputs": [],
   "source": []
  },
  {
   "cell_type": "code",
   "execution_count": 413,
   "metadata": {
    "collapsed": true
   },
   "outputs": [],
   "source": [
    "#Funcation to calcualte each player's on base percentage\n",
    "def calculate_player_obp(hits, hbp, walks, at_bats, flies):\n",
    "    dividend = hits + walks + hbp \n",
    "    divisor = at_bats + walks + hbp + flies\n",
    "    obp = dividend / divisor \n",
    "    return obp"
   ]
  },
  {
   "cell_type": "code",
   "execution_count": 414,
   "metadata": {
    "collapsed": false
   },
   "outputs": [],
   "source": [
    "#Find each player's OBP and place it a newly-created column titled \"OBP\n",
    "baseball[\"OBP\"] = calculate_player_obp(\n",
    "    baseball['H'],\n",
    "    baseball['HBP'],\n",
    "    baseball['IBB'],\n",
    "    baseball['AB'],\n",
    "    baseball['SF'],\n",
    ")"
   ]
  },
  {
   "cell_type": "code",
   "execution_count": 417,
   "metadata": {
    "collapsed": false
   },
   "outputs": [],
   "source": [
    "#Function to compare their salary and OBP to determine efficiency at getting on base\n",
    "def establish_financial_efficacy_of_player(OBP, salary):\n",
    "    return OBP / salary  "
   ]
  },
  {
   "cell_type": "code",
   "execution_count": 419,
   "metadata": {
    "collapsed": false
   },
   "outputs": [],
   "source": [
    "#Place the aforementioned ratio into a new column titled \"Efficiency\n",
    "baseball[\"Efficiency\"] = establish_financial_efficacy_of_player(baseball['OBP'], baseball['salary'])"
   ]
  },
  {
   "cell_type": "code",
   "execution_count": 423,
   "metadata": {
    "collapsed": true
   },
   "outputs": [],
   "source": [
    "#Require at least 25 at-bats to remove 1.0 OBP outliers\n",
    "baseball = baseball[baseball['AB'] > 25]"
   ]
  },
  {
   "cell_type": "code",
   "execution_count": 426,
   "metadata": {
    "collapsed": false
   },
   "outputs": [],
   "source": [
    "#Clean dataframe of corrupt results (e.g. infinite efficiency)\n",
    "baseball = baseball.replace([np.inf, -np.inf], np.nan)\n",
    "baseball = baseball.dropna()"
   ]
  },
  {
   "cell_type": "code",
   "execution_count": 427,
   "metadata": {
    "collapsed": false
   },
   "outputs": [
    {
     "data": {
      "text/html": [
       "<div>\n",
       "<table border=\"1\" class=\"dataframe\">\n",
       "  <thead>\n",
       "    <tr style=\"text-align: right;\">\n",
       "      <th></th>\n",
       "      <th>yearID</th>\n",
       "      <th>playerID</th>\n",
       "      <th>salary</th>\n",
       "      <th>POS</th>\n",
       "      <th>nameFirst</th>\n",
       "      <th>nameLast</th>\n",
       "      <th>G</th>\n",
       "      <th>AB</th>\n",
       "      <th>H</th>\n",
       "      <th>IBB</th>\n",
       "      <th>HBP</th>\n",
       "      <th>SF</th>\n",
       "      <th>OBP</th>\n",
       "      <th>Efficiency</th>\n",
       "    </tr>\n",
       "  </thead>\n",
       "  <tbody>\n",
       "    <tr>\n",
       "      <th>14056</th>\n",
       "      <td>1987</td>\n",
       "      <td>milleke01</td>\n",
       "      <td>62500</td>\n",
       "      <td>2B</td>\n",
       "      <td>Keith</td>\n",
       "      <td>Miller</td>\n",
       "      <td>25</td>\n",
       "      <td>51.0</td>\n",
       "      <td>19.0</td>\n",
       "      <td>0.0</td>\n",
       "      <td>1.0</td>\n",
       "      <td>0.0</td>\n",
       "      <td>0.384615</td>\n",
       "      <td>0.000006</td>\n",
       "    </tr>\n",
       "    <tr>\n",
       "      <th>8940</th>\n",
       "      <td>1986</td>\n",
       "      <td>jonestr01</td>\n",
       "      <td>60000</td>\n",
       "      <td>1B</td>\n",
       "      <td>Tracy</td>\n",
       "      <td>Jones</td>\n",
       "      <td>46</td>\n",
       "      <td>86.0</td>\n",
       "      <td>30.0</td>\n",
       "      <td>1.0</td>\n",
       "      <td>0.0</td>\n",
       "      <td>1.0</td>\n",
       "      <td>0.352273</td>\n",
       "      <td>0.000006</td>\n",
       "    </tr>\n",
       "    <tr>\n",
       "      <th>8941</th>\n",
       "      <td>1986</td>\n",
       "      <td>jonestr01</td>\n",
       "      <td>60000</td>\n",
       "      <td>CF</td>\n",
       "      <td>Tracy</td>\n",
       "      <td>Jones</td>\n",
       "      <td>46</td>\n",
       "      <td>86.0</td>\n",
       "      <td>30.0</td>\n",
       "      <td>1.0</td>\n",
       "      <td>0.0</td>\n",
       "      <td>1.0</td>\n",
       "      <td>0.352273</td>\n",
       "      <td>0.000006</td>\n",
       "    </tr>\n",
       "    <tr>\n",
       "      <th>8942</th>\n",
       "      <td>1986</td>\n",
       "      <td>jonestr01</td>\n",
       "      <td>60000</td>\n",
       "      <td>LF</td>\n",
       "      <td>Tracy</td>\n",
       "      <td>Jones</td>\n",
       "      <td>46</td>\n",
       "      <td>86.0</td>\n",
       "      <td>30.0</td>\n",
       "      <td>1.0</td>\n",
       "      <td>0.0</td>\n",
       "      <td>1.0</td>\n",
       "      <td>0.352273</td>\n",
       "      <td>0.000006</td>\n",
       "    </tr>\n",
       "    <tr>\n",
       "      <th>8943</th>\n",
       "      <td>1986</td>\n",
       "      <td>jonestr01</td>\n",
       "      <td>60000</td>\n",
       "      <td>OF</td>\n",
       "      <td>Tracy</td>\n",
       "      <td>Jones</td>\n",
       "      <td>46</td>\n",
       "      <td>86.0</td>\n",
       "      <td>30.0</td>\n",
       "      <td>1.0</td>\n",
       "      <td>0.0</td>\n",
       "      <td>1.0</td>\n",
       "      <td>0.352273</td>\n",
       "      <td>0.000006</td>\n",
       "    </tr>\n",
       "    <tr>\n",
       "      <th>8843</th>\n",
       "      <td>1986</td>\n",
       "      <td>danieka01</td>\n",
       "      <td>60000</td>\n",
       "      <td>OF</td>\n",
       "      <td>Kal</td>\n",
       "      <td>Daniels</td>\n",
       "      <td>74</td>\n",
       "      <td>181.0</td>\n",
       "      <td>58.0</td>\n",
       "      <td>1.0</td>\n",
       "      <td>2.0</td>\n",
       "      <td>1.0</td>\n",
       "      <td>0.329730</td>\n",
       "      <td>0.000005</td>\n",
       "    </tr>\n",
       "    <tr>\n",
       "      <th>8842</th>\n",
       "      <td>1986</td>\n",
       "      <td>danieka01</td>\n",
       "      <td>60000</td>\n",
       "      <td>LF</td>\n",
       "      <td>Kal</td>\n",
       "      <td>Daniels</td>\n",
       "      <td>74</td>\n",
       "      <td>181.0</td>\n",
       "      <td>58.0</td>\n",
       "      <td>1.0</td>\n",
       "      <td>2.0</td>\n",
       "      <td>1.0</td>\n",
       "      <td>0.329730</td>\n",
       "      <td>0.000005</td>\n",
       "    </tr>\n",
       "    <tr>\n",
       "      <th>8215</th>\n",
       "      <td>1986</td>\n",
       "      <td>greenmi01</td>\n",
       "      <td>60000</td>\n",
       "      <td>LF</td>\n",
       "      <td>Mike</td>\n",
       "      <td>Greenwell</td>\n",
       "      <td>31</td>\n",
       "      <td>35.0</td>\n",
       "      <td>11.0</td>\n",
       "      <td>0.0</td>\n",
       "      <td>0.0</td>\n",
       "      <td>0.0</td>\n",
       "      <td>0.314286</td>\n",
       "      <td>0.000005</td>\n",
       "    </tr>\n",
       "    <tr>\n",
       "      <th>8214</th>\n",
       "      <td>1986</td>\n",
       "      <td>greenmi01</td>\n",
       "      <td>60000</td>\n",
       "      <td>DH</td>\n",
       "      <td>Mike</td>\n",
       "      <td>Greenwell</td>\n",
       "      <td>31</td>\n",
       "      <td>35.0</td>\n",
       "      <td>11.0</td>\n",
       "      <td>0.0</td>\n",
       "      <td>0.0</td>\n",
       "      <td>0.0</td>\n",
       "      <td>0.314286</td>\n",
       "      <td>0.000005</td>\n",
       "    </tr>\n",
       "    <tr>\n",
       "      <th>8217</th>\n",
       "      <td>1986</td>\n",
       "      <td>greenmi01</td>\n",
       "      <td>60000</td>\n",
       "      <td>RF</td>\n",
       "      <td>Mike</td>\n",
       "      <td>Greenwell</td>\n",
       "      <td>31</td>\n",
       "      <td>35.0</td>\n",
       "      <td>11.0</td>\n",
       "      <td>0.0</td>\n",
       "      <td>0.0</td>\n",
       "      <td>0.0</td>\n",
       "      <td>0.314286</td>\n",
       "      <td>0.000005</td>\n",
       "    </tr>\n",
       "  </tbody>\n",
       "</table>\n",
       "</div>"
      ],
      "text/plain": [
       "       yearID   playerID  salary POS nameFirst   nameLast   G     AB     H  \\\n",
       "14056    1987  milleke01   62500  2B     Keith     Miller  25   51.0  19.0   \n",
       "8940     1986  jonestr01   60000  1B     Tracy      Jones  46   86.0  30.0   \n",
       "8941     1986  jonestr01   60000  CF     Tracy      Jones  46   86.0  30.0   \n",
       "8942     1986  jonestr01   60000  LF     Tracy      Jones  46   86.0  30.0   \n",
       "8943     1986  jonestr01   60000  OF     Tracy      Jones  46   86.0  30.0   \n",
       "8843     1986  danieka01   60000  OF       Kal    Daniels  74  181.0  58.0   \n",
       "8842     1986  danieka01   60000  LF       Kal    Daniels  74  181.0  58.0   \n",
       "8215     1986  greenmi01   60000  LF      Mike  Greenwell  31   35.0  11.0   \n",
       "8214     1986  greenmi01   60000  DH      Mike  Greenwell  31   35.0  11.0   \n",
       "8217     1986  greenmi01   60000  RF      Mike  Greenwell  31   35.0  11.0   \n",
       "\n",
       "       IBB  HBP   SF       OBP  Efficiency  \n",
       "14056  0.0  1.0  0.0  0.384615    0.000006  \n",
       "8940   1.0  0.0  1.0  0.352273    0.000006  \n",
       "8941   1.0  0.0  1.0  0.352273    0.000006  \n",
       "8942   1.0  0.0  1.0  0.352273    0.000006  \n",
       "8943   1.0  0.0  1.0  0.352273    0.000006  \n",
       "8843   1.0  2.0  1.0  0.329730    0.000005  \n",
       "8842   1.0  2.0  1.0  0.329730    0.000005  \n",
       "8215   0.0  0.0  0.0  0.314286    0.000005  \n",
       "8214   0.0  0.0  0.0  0.314286    0.000005  \n",
       "8217   0.0  0.0  0.0  0.314286    0.000005  "
      ]
     },
     "execution_count": 427,
     "metadata": {},
     "output_type": "execute_result"
    }
   ],
   "source": [
    "baseball.sort_values('Efficiency', ascending=False).head(10)"
   ]
  },
  {
   "cell_type": "code",
   "execution_count": 429,
   "metadata": {
    "collapsed": false
   },
   "outputs": [
    {
     "data": {
      "text/plain": [
       "count    45820.000000\n",
       "mean         0.255493\n",
       "std          0.051981\n",
       "min          0.000000\n",
       "25%          0.230769\n",
       "50%          0.262295\n",
       "75%          0.288542\n",
       "max          0.522772\n",
       "Name: OBP, dtype: float64"
      ]
     },
     "execution_count": 429,
     "metadata": {},
     "output_type": "execute_result"
    }
   ],
   "source": [
    "#Show mean of players on-base percentage\n",
    "baseball['OBP'].describe()"
   ]
  },
  {
   "cell_type": "code",
   "execution_count": null,
   "metadata": {
    "collapsed": false
   },
   "outputs": [],
   "source": []
  },
  {
   "cell_type": "code",
   "execution_count": null,
   "metadata": {
    "collapsed": true
   },
   "outputs": [],
   "source": []
  }
 ],
 "metadata": {
  "kernelspec": {
   "display_name": "Python 3",
   "language": "python",
   "name": "python3"
  },
  "language_info": {
   "codemirror_mode": {
    "name": "ipython",
    "version": 3
   },
   "file_extension": ".py",
   "mimetype": "text/x-python",
   "name": "python",
   "nbconvert_exporter": "python",
   "pygments_lexer": "ipython3",
   "version": "3.5.1"
  }
 },
 "nbformat": 4,
 "nbformat_minor": 0
}
